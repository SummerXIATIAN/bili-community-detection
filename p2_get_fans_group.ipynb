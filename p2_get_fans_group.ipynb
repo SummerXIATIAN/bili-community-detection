{
 "cells": [
  {
   "cell_type": "code",
   "execution_count": 1,
   "metadata": {},
   "outputs": [],
   "source": [
    "import requests\n",
    "import pandas as pd\n",
    "import numpy as np\n",
    "import requests\n",
    "import json"
   ]
  },
  {
   "cell_type": "code",
   "execution_count": 2,
   "metadata": {},
   "outputs": [],
   "source": [
    "def get_guards(roomid,ruid,page=1):\n",
    "    payload={}\n",
    "    headers = {\n",
    "      'Cookie': 'LIVE_BUVID=AUTO1616700756065396'\n",
    "    }\n",
    "    url = f\"https://api.live.bilibili.com/guard/topList?roomid={roomid}&ruid={ruid}&page={page}\"\n",
    "    \n",
    "    response = requests.request(\"GET\", url, headers=headers, data=payload)\n",
    "    rg = json.loads(response.text)\n",
    "    \n",
    "    result = []\n",
    "    g_num = rg['data']['info']['num']\n",
    "    g_page = rg['data']['info']['page']\n",
    "    # print(f\"Guards Num: {g_num}, Total page num: {g_page}\")\n",
    "    guard_attr = ['uid','ruid','username','guard_level']\n",
    "    result += [{k: v for k, v in u.items() if k in guard_attr} for u in rg['data']['top3']]\n",
    "    \n",
    "    for p in range(page, g_page+1):\n",
    "        # if p%10 == 0:\n",
    "            # print(f\"Processing Page {p*10}...\")\n",
    "        url = f\"https://api.live.bilibili.com/guard/topList?roomid={roomid}&ruid={ruid}&page={p}\"\n",
    "        response = requests.request(\"GET\", url, headers=headers, data=payload)\n",
    "        rg = json.loads(response.text)\n",
    "        userList = [{k: v for k, v in u.items() if k in guard_attr} for u in rg['data']['list']]\n",
    "        result += userList\n",
    "    \n",
    "    df_g = pd.DataFrame.from_dict(result)\n",
    "    return df_g"
   ]
  },
  {
   "cell_type": "code",
   "execution_count": 3,
   "metadata": {},
   "outputs": [],
   "source": [
    "def get_fans(ruid,page=1,page_size=100):\n",
    "    '''get members (active viewers) in fans group\n",
    "        - ruid: mid of the user\n",
    "        - page: start from page #\n",
    "        - page_size: number of members per page (max 30 actually))\n",
    "\n",
    "    return: pandas dataframe'''\n",
    "    payload={}\n",
    "    headers = {\n",
    "      'Cookie': 'LIVE_BUVID=AUTO1616700756065396'\n",
    "    }\n",
    "    url = f\"https://api.live.bilibili.com/xlive/general-interface/v1/rank/getFansMembersRank?ruid={ruid}&page={page}&page_size={page_size}\"\n",
    "    \n",
    "    response = requests.request(\"GET\", url, headers=headers, data=payload)\n",
    "    rf = json.loads(response.text)\n",
    "    \n",
    "    ### Get total number of this type of streamers\n",
    "    fan_attr = ['user_rank','uid','name','score','medal_name','level','guard_level']\n",
    "    f_num = rf['data']['num']\n",
    "    f_page = int(f_num/30) + 1\n",
    "    # print(f\"Fans Num: {f_num}, Total page num: {f_page}\")\n",
    "    \n",
    "    \n",
    "    ### Get data from each page\n",
    "    result = []\n",
    "    for p in range(page, f_page+1):\n",
    "        # if p%10 == 0:\n",
    "            # print(f\"Processing Page {p}...\")\n",
    "        url = f\"https://api.live.bilibili.com/xlive/general-interface/v1/rank/getFansMembersRank?ruid={ruid}&page={p}&page_size={page_size}\"\n",
    "        response = requests.request(\"GET\", url, headers=headers, data=payload)\n",
    "        rf = json.loads(response.text)\n",
    "        userList = [{k: v for k, v in u.items() if k in fan_attr} for u in rf['data']['item']]\n",
    "        result += userList\n",
    "    \n",
    "    df_f = pd.DataFrame.from_dict(result)\n",
    "    return df_f"
   ]
  },
  {
   "cell_type": "code",
   "execution_count": 13,
   "metadata": {},
   "outputs": [
    {
     "data": {
      "text/plain": [
       "(577, 7)"
      ]
     },
     "execution_count": 13,
     "metadata": {},
     "output_type": "execute_result"
    }
   ],
   "source": [
    "source = pd.read_csv(\"data/streamer_info.csv\")\n",
    "source.shape"
   ]
  },
  {
   "cell_type": "code",
   "execution_count": 21,
   "metadata": {},
   "outputs": [],
   "source": [
    "## For each streamer, get their active viewers \n",
    "def fans_main(df, start=0):\n",
    "    for index, row in df.iloc[start:].iterrows():\n",
    "        print(f\"Processing {index} vTuber {row['uname']}...\")\n",
    "        df = get_fans(row['mid']) \n",
    "        df.to_csv(f\"data/fans/{row['uname']}_fans.csv\", index=False)\n",
    "    print(\"Fans data. Done!\")"
   ]
  },
  {
   "cell_type": "code",
   "execution_count": 22,
   "metadata": {},
   "outputs": [
    {
     "name": "stdout",
     "output_type": "stream",
     "text": [
      "Processing 575 vTuber 桀骜文风...\n",
      "Processing 576 vTuber 美波七海-official...\n",
      "Fans data. Done!\n"
     ]
    }
   ],
   "source": [
    "fans_main(df=source, start=575)"
   ]
  },
  {
   "cell_type": "code",
   "execution_count": null,
   "metadata": {},
   "outputs": [],
   "source": []
  }
 ],
 "metadata": {
  "kernelspec": {
   "display_name": "Python 3.8.8 ('base')",
   "language": "python",
   "name": "python3"
  },
  "language_info": {
   "codemirror_mode": {
    "name": "ipython",
    "version": 3
   },
   "file_extension": ".py",
   "mimetype": "text/x-python",
   "name": "python",
   "nbconvert_exporter": "python",
   "pygments_lexer": "ipython3",
   "version": "3.8.8"
  },
  "orig_nbformat": 4,
  "vscode": {
   "interpreter": {
    "hash": "348263159d0fef1ab05034179228af8d762411307f6873e31ff292278572f6d8"
   }
  }
 },
 "nbformat": 4,
 "nbformat_minor": 2
}
