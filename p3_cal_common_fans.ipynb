{
 "cells": [
  {
   "cell_type": "code",
   "execution_count": 1,
   "metadata": {},
   "outputs": [],
   "source": [
    "import os\n",
    "import pandas as pd\n",
    "import re\n",
    "import requests\n",
    "import numpy as np\n",
    "import json"
   ]
  },
  {
   "cell_type": "code",
   "execution_count": 10,
   "metadata": {},
   "outputs": [],
   "source": [
    "## Get all csv files\n",
    "fans_type = \"fans\"\n",
    "directory = f\"data/{fans_type}\"\n",
    "all_files = os.listdir(directory)\n",
    "csv_files = list(filter(lambda f: f.endswith('.csv'), all_files))\n",
    "# csv_files = csv_files[:50]"
   ]
  },
  {
   "cell_type": "code",
   "execution_count": 11,
   "metadata": {},
   "outputs": [],
   "source": [
    "## Get all streamers' names\n",
    "name_list = [f.split(f'_{fans_type}')[0] for f in csv_files]\n",
    "name_list[:5]\n",
    "\n",
    "## Get length\n",
    "num = len(name_list)"
   ]
  },
  {
   "cell_type": "code",
   "execution_count": 12,
   "metadata": {},
   "outputs": [],
   "source": [
    "## Calculate common fans for each pair of streamers\n",
    "\n",
    "### Get all streamers' data\n",
    "dicts = {}\n",
    "for index, file in enumerate(csv_files):\n",
    "    result = []\n",
    "    try:\n",
    "        df = pd.read_csv(f\"{directory}/{file}\")\n",
    "    except pd.errors.EmptyDataError as e:\n",
    "        print(f\"No content for {index}, {name_list[index]}\")\n",
    "        df = pd.DataFrame(columns=['uid', 'name'],dtype=object)\n",
    "    dicts[index] = {'name':name_list[index], 'data':df, 'result':result, 'type':fans_type, 'followers':df.shape[0]}"
   ]
  },
  {
   "cell_type": "code",
   "execution_count": 6,
   "metadata": {},
   "outputs": [],
   "source": [
    "def transDict(dictionary, name_list):\n",
    "    '''data transformation from dictionary to dataframe'''\n",
    "    length = len(name_list)\n",
    "    relationshipMap = {\n",
    "        'src': [dictionary['name']] * length,\n",
    "        'dst': name_list,\n",
    "        'count': dictionary['result'],\n",
    "        'type': [dictionary['type']] * length,\n",
    "        'followers': [dictionary['followers']] * length\n",
    "    }\n",
    "    return relationshipMap"
   ]
  },
  {
   "cell_type": "code",
   "execution_count": 13,
   "metadata": {},
   "outputs": [
    {
     "name": "stdout",
     "output_type": "stream",
     "text": [
      "Processing 0 th, 一个乌龟酱\n",
      "Processing 25 th, Fulgur-Official\n",
      "Processing 50 th, 冰糖IO\n",
      "Processing 75 th, 团小哈\n",
      "Processing 100 th, 鬼叔黍\n",
      "Processing 125 th, 纯爱辣妹\n",
      "Processing 150 th, kk不是对儿k宝可梦\n",
      "Processing 175 th, 星弥Hoshimi\n",
      "Processing 200 th, 莫熙呐\n",
      "Processing 225 th, 啵啵小狗341\n",
      "Processing 250 th, 御酱Asahi\n",
      "Processing 275 th, 乙女音Official\n",
      "Processing 300 th, 温之九丶\n",
      "Processing 325 th, __07_\n",
      "Processing 350 th, 青寒plus\n",
      "Processing 375 th, 泪腺战士\n",
      "Processing 400 th, 切茜娅CheIsea\n",
      "Processing 425 th, 泛式\n",
      "Processing 450 th, 原神\n",
      "Processing 475 th, 茂Sigeru\n",
      "Processing 500 th, 小可学妹\n",
      "Processing 525 th, 一米八的坤儿\n",
      "Processing 550 th, 夏亚的腿毛\n",
      "Processing 575 th, ❀Sakulaˇ小舞\n"
     ]
    }
   ],
   "source": [
    "### Calculate common fans\n",
    "for item in dicts:\n",
    "    if item % 25 == 0:\n",
    "        print(f\"Processing {item} th, {dicts[item]['name']}\")\n",
    "    for idx in range(len(name_list)):\n",
    "        # print(item,idx)\n",
    "        if item == idx:\n",
    "            dicts[item]['result'].append(0)\n",
    "            continue\n",
    "        duplicate_rows = pd.merge(dicts[item]['data'], dicts[idx]['data'], on=['uid'], how='inner')\n",
    "        cnt = duplicate_rows.shape[0]\n",
    "        dicts[item]['result'].append(cnt)\n",
    "        # if cnt > 0:\n",
    "            # print(item,idx,dicts[item]['name'],dicts[idx]['name'],cnt)\n",
    "    \n",
    "    relationshipMap = transDict(dicts[item],name_list)\n",
    "    # for i in relationshipMap:\n",
    "        # print(i,len(relationshipMap[i]))\n",
    "    df_map = pd.DataFrame.from_dict(relationshipMap)\n",
    "    df_map.to_csv(f\"data/result/{dicts[item]['name']}.csv\",index=False)"
   ]
  },
  {
   "cell_type": "code",
   "execution_count": 14,
   "metadata": {},
   "outputs": [],
   "source": [
    "## concat all csv files of streamers to one csv file\n",
    "dir_path = os.listdir(\"data/result\")    \n",
    "csv_f = list(filter(lambda f: f.endswith('.csv'), dir_path))\n",
    "\n",
    "df_all = pd.concat([pd.read_csv(f\"data/result/{f}\") for f in csv_f], axis=0, ignore_index=True)\n",
    "df_all = df_all[df_all['count']>0]\n",
    "df_all['percentage'] = round(df_all['count'] / df_all['followers'], 3)\n",
    "df_all.to_csv('data/result.csv',index=False)"
   ]
  },
  {
   "cell_type": "code",
   "execution_count": null,
   "metadata": {},
   "outputs": [],
   "source": []
  }
 ],
 "metadata": {
  "kernelspec": {
   "display_name": "Python 3.8.8 ('base')",
   "language": "python",
   "name": "python3"
  },
  "language_info": {
   "codemirror_mode": {
    "name": "ipython",
    "version": 3
   },
   "file_extension": ".py",
   "mimetype": "text/x-python",
   "name": "python",
   "nbconvert_exporter": "python",
   "pygments_lexer": "ipython3",
   "version": "3.8.8"
  },
  "orig_nbformat": 4,
  "vscode": {
   "interpreter": {
    "hash": "348263159d0fef1ab05034179228af8d762411307f6873e31ff292278572f6d8"
   }
  }
 },
 "nbformat": 4,
 "nbformat_minor": 2
}
